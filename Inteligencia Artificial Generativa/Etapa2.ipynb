{
  "metadata": {
    "kernelspec": {
      "name": "python3",
      "display_name": "Python 3"
    },
    "language_info": {
      "name": "python",
      "version": "3.10.14",
      "mimetype": "text/x-python",
      "codemirror_mode": {
        "name": "ipython",
        "version": 3
      },
      "pygments_lexer": "ipython3",
      "nbconvert_exporter": "python",
      "file_extension": ".py"
    },
    "colab": {
      "provenance": [],
      "machine_shape": "hm",
      "gpuType": "L4"
    },
    "kaggle": {
      "accelerator": "nvidiaTeslaT4",
      "dataSources": [
        {
          "sourceId": 2333429,
          "sourceType": "datasetVersion",
          "datasetId": 1408532
        }
      ],
      "dockerImageVersionId": 30786,
      "isInternetEnabled": true,
      "language": "python",
      "sourceType": "notebook",
      "isGpuEnabled": true
    },
    "accelerator": "GPU"
  },
  "nbformat_minor": 0,
  "nbformat": 4,
  "cells": [
    {
      "cell_type": "markdown",
      "source": [
        "Obligatorio: Inteligencia Artificial Generativa.\n",
        "Proyecto: Animals with attributes CVAE\n",
        "\n",
        "Leandro Cardoso - 166267\n",
        "Felipe Schramm - 343028\n",
        "Martin Rizzo - 343631"
      ],
      "metadata": {
        "id": "vHj9ZX_hOLcK"
      }
    },
    {
      "cell_type": "code",
      "source": [
        "!pip install torchinfo"
      ],
      "metadata": {
        "colab": {
          "base_uri": "https://localhost:8080/"
        },
        "id": "yl5HRAuOE9ge",
        "outputId": "7d450511-aa58-4089-9c55-e665dadae68a"
      },
      "execution_count": null,
      "outputs": [
        {
          "output_type": "stream",
          "name": "stdout",
          "text": [
            "Collecting torchinfo\n",
            "  Downloading torchinfo-1.8.0-py3-none-any.whl.metadata (21 kB)\n",
            "Downloading torchinfo-1.8.0-py3-none-any.whl (23 kB)\n",
            "Installing collected packages: torchinfo\n",
            "Successfully installed torchinfo-1.8.0\n"
          ]
        }
      ]
    },
    {
      "cell_type": "code",
      "source": [
        "!unzip /content/elefante_frente.zip"
      ],
      "metadata": {
        "colab": {
          "base_uri": "https://localhost:8080/"
        },
        "id": "uCBVVsQNuZEL",
        "outputId": "cf416e56-2893-4039-ce0b-4e1752a4a12b"
      },
      "execution_count": null,
      "outputs": [
        {
          "output_type": "stream",
          "name": "stdout",
          "text": [
            "Archive:  /content/elefante_frente.zip\n",
            "   creating: elefante_frente/\n",
            "  inflating: elefante_frente/elephant_10003.jpg  \n",
            "  inflating: elefante_frente/elephant_10018.jpg  \n",
            "  inflating: elefante_frente/elephant_10035.jpg  \n",
            "  inflating: elefante_frente/elephant_10042.jpg  \n",
            "  inflating: elefante_frente/elephant_10051.jpg  \n",
            "  inflating: elefante_frente/elephant_10057.jpg  \n",
            "  inflating: elefante_frente/elephant_10068.jpg  \n",
            "  inflating: elefante_frente/elephant_10078.jpg  \n",
            "  inflating: elefante_frente/elephant_10085.jpg  \n",
            "  inflating: elefante_frente/elephant_10096.jpg  \n",
            "  inflating: elefante_frente/elephant_10098.jpg  \n",
            "  inflating: elefante_frente/elephant_10101.jpg  \n",
            "  inflating: elefante_frente/elephant_10104.jpg  \n",
            "  inflating: elefante_frente/elephant_10111.jpg  \n",
            "  inflating: elefante_frente/elephant_10123.jpg  \n",
            "  inflating: elefante_frente/elephant_10124.jpg  \n",
            "  inflating: elefante_frente/elephant_10136.jpg  \n",
            "  inflating: elefante_frente/elephant_10175.jpg  \n",
            "  inflating: elefante_frente/elephant_10182.jpg  \n",
            "  inflating: elefante_frente/elephant_10184.jpg  \n",
            "  inflating: elefante_frente/elephant_10191.jpg  \n",
            "  inflating: elefante_frente/elephant_10192.jpg  \n",
            "  inflating: elefante_frente/elephant_10193.jpg  \n",
            "  inflating: elefante_frente/elephant_10211.jpg  \n",
            "  inflating: elefante_frente/elephant_10214.jpg  \n",
            "  inflating: elefante_frente/elephant_10223.jpg  \n",
            "  inflating: elefante_frente/elephant_10225.jpg  \n",
            "  inflating: elefante_frente/elephant_10242.jpg  \n",
            "  inflating: elefante_frente/elephant_10244.jpg  \n",
            "  inflating: elefante_frente/elephant_10256.jpg  \n",
            "  inflating: elefante_frente/elephant_10278.jpg  \n",
            "  inflating: elefante_frente/elephant_10280.jpg  \n",
            "  inflating: elefante_frente/elephant_10289.jpg  \n",
            "  inflating: elefante_frente/elephant_10291.jpg  \n",
            "  inflating: elefante_frente/elephant_10298.jpg  \n",
            "  inflating: elefante_frente/elephant_10301.jpg  \n",
            "  inflating: elefante_frente/elephant_10309.jpg  \n",
            "  inflating: elefante_frente/elephant_10312.jpg  \n",
            "  inflating: elefante_frente/elephant_10319.jpg  \n",
            "  inflating: elefante_frente/elephant_10339.jpg  \n",
            "  inflating: elefante_frente/elephant_10340.jpg  \n",
            "  inflating: elefante_frente/elephant_10345.jpg  \n",
            "  inflating: elefante_frente/elephant_10348.jpg  \n",
            "  inflating: elefante_frente/elephant_10351.jpg  \n",
            "  inflating: elefante_frente/elephant_10355.jpg  \n",
            "  inflating: elefante_frente/elephant_10365.jpg  \n",
            "  inflating: elefante_frente/elephant_10394.jpg  \n",
            "  inflating: elefante_frente/elephant_10399.jpg  \n",
            "  inflating: elefante_frente/elephant_10405.jpg  \n",
            "  inflating: elefante_frente/elephant_10417.jpg  \n",
            "  inflating: elefante_frente/elephant_10419.jpg  \n",
            "  inflating: elefante_frente/elephant_10420.jpg  \n",
            "  inflating: elefante_frente/elephant_10424.jpg  \n",
            "  inflating: elefante_frente/elephant_10425.jpg  \n",
            "  inflating: elefante_frente/elephant_10428.jpg  \n",
            "  inflating: elefante_frente/elephant_10437.jpg  \n",
            "  inflating: elefante_frente/elephant_10442.jpg  \n",
            "  inflating: elefante_frente/elephant_10454.jpg  \n",
            "  inflating: elefante_frente/elephant_10456.jpg  \n",
            "  inflating: elefante_frente/elephant_10463.jpg  \n",
            "  inflating: elefante_frente/elephant_10472.jpg  \n",
            "  inflating: elefante_frente/elephant_10487.jpg  \n",
            "  inflating: elefante_frente/elephant_10490.jpg  \n",
            "  inflating: elefante_frente/elephant_10491.jpg  \n",
            "  inflating: elefante_frente/elephant_10498.jpg  \n",
            "  inflating: elefante_frente/elephant_10515.jpg  \n",
            "  inflating: elefante_frente/elephant_10528.jpg  \n",
            "  inflating: elefante_frente/elephant_10530.jpg  \n",
            "  inflating: elefante_frente/elephant_10531.jpg  \n",
            "  inflating: elefante_frente/elephant_10542.jpg  \n",
            "  inflating: elefante_frente/elephant_10557.jpg  \n",
            "  inflating: elefante_frente/elephant_10566.jpg  \n",
            "  inflating: elefante_frente/elephant_10572.jpg  \n",
            "  inflating: elefante_frente/elephant_10574.jpg  \n",
            "  inflating: elefante_frente/elephant_10579.jpg  \n",
            "  inflating: elefante_frente/elephant_10580.jpg  \n",
            "  inflating: elefante_frente/elephant_10586.jpg  \n",
            "  inflating: elefante_frente/elephant_10587.jpg  \n",
            "  inflating: elefante_frente/elephant_10600.jpg  \n",
            "  inflating: elefante_frente/elephant_10604.jpg  \n",
            "  inflating: elefante_frente/elephant_10640.jpg  \n",
            "  inflating: elefante_frente/elephant_10645.jpg  \n",
            "  inflating: elefante_frente/elephant_10650.jpg  \n",
            "  inflating: elefante_frente/elephant_10653.jpg  \n",
            "  inflating: elefante_frente/elephant_10658.jpg  \n",
            "  inflating: elefante_frente/elephant_10659.jpg  \n",
            "  inflating: elefante_frente/elephant_10665.jpg  \n",
            "  inflating: elefante_frente/elephant_10684.jpg  \n",
            "  inflating: elefante_frente/elephant_10696.jpg  \n",
            "  inflating: elefante_frente/elephant_10751.jpg  \n",
            "  inflating: elefante_frente/elephant_10806.jpg  \n",
            "  inflating: elefante_frente/elephant_10808.jpg  \n",
            "  inflating: elefante_frente/elephant_10846.jpg  \n",
            "  inflating: elefante_frente/elephant_10853.jpg  \n",
            "  inflating: elefante_frente/elephant_10881.jpg  \n",
            "  inflating: elefante_frente/elephant_10884.jpg  \n",
            "  inflating: elefante_frente/elephant_10886.jpg  \n",
            "  inflating: elefante_frente/elephant_10890.jpg  \n",
            "  inflating: elefante_frente/elephant_10904.jpg  \n",
            "  inflating: elefante_frente/elephant_10911.jpg  \n",
            "  inflating: elefante_frente/elephant_10919.jpg  \n",
            "  inflating: elefante_frente/elephant_10920.jpg  \n",
            "  inflating: elefante_frente/elephant_10942.jpg  \n",
            "  inflating: elefante_frente/elephant_10958.jpg  \n",
            "  inflating: elefante_frente/elephant_10959.jpg  \n",
            "  inflating: elefante_frente/elephant_10972.jpg  \n",
            "  inflating: elefante_frente/elephant_10976.jpg  \n",
            "  inflating: elefante_frente/elephant_11007.jpg  \n",
            "  inflating: elefante_frente/elephant_11018.jpg  \n",
            "  inflating: elefante_frente/elephant_11033.jpg  \n",
            "  inflating: elefante_frente/test_af_te30.jpg  \n",
            "  inflating: elefante_frente/test_af_te37.jpg  \n",
            "  inflating: elefante_frente/test_af_te38.jpg  \n",
            "  inflating: elefante_frente/test_af_te43.jpg  \n",
            "  inflating: elefante_frente/test_af_te48.jpg  \n",
            "  inflating: elefante_frente/test_af_te49.jpg  \n",
            "  inflating: elefante_frente/test_af_te54.jpg  \n",
            "  inflating: elefante_frente/test_af_te55.jpg  \n",
            "  inflating: elefante_frente/test_af_te62.jpg  \n",
            "  inflating: elefante_frente/test_af_te65.jpg  \n",
            "  inflating: elefante_frente/test_af_te7.jpg  \n",
            "  inflating: elefante_frente/test_af_te71.jpg  \n",
            "  inflating: elefante_frente/test_af_te83.jpg  \n",
            "  inflating: elefante_frente/test_af_te97.jpg  \n",
            "  inflating: elefante_frente/test_as_te19.jpg  \n",
            "  inflating: elefante_frente/test_as_te36.jpg  \n",
            "  inflating: elefante_frente/test_as_te4.jpg  \n",
            "  inflating: elefante_frente/test_as_te56.jpg  \n",
            "  inflating: elefante_frente/test_as_te60.jpg  \n",
            "  inflating: elefante_frente/test_as_te80.jpg  \n",
            "  inflating: elefante_frente/test_as_te82.jpg  \n",
            "  inflating: elefante_frente/test_as_te96.jpg  \n",
            "  inflating: elefante_frente/train_af_tr103.jpeg  \n",
            "  inflating: elefante_frente/train_af_tr113.jpg  \n",
            "  inflating: elefante_frente/train_af_tr118.jpg  \n",
            "  inflating: elefante_frente/train_af_tr122.jpg  \n",
            "  inflating: elefante_frente/train_af_tr146.jpg  \n",
            "  inflating: elefante_frente/train_af_tr151.jpg  \n",
            "  inflating: elefante_frente/train_af_tr155.jpg  \n",
            "  inflating: elefante_frente/train_af_tr159.jpeg  \n",
            "  inflating: elefante_frente/train_af_tr17.jpg  \n",
            "  inflating: elefante_frente/train_af_tr172.jpg  \n",
            "  inflating: elefante_frente/train_af_tr180.jpg  \n",
            "  inflating: elefante_frente/train_af_tr181.jpg  \n",
            "  inflating: elefante_frente/train_af_tr201.jpg  \n",
            "  inflating: elefante_frente/train_af_tr209.jpg  \n",
            "  inflating: elefante_frente/train_af_tr236.jpeg  \n",
            "  inflating: elefante_frente/train_af_tr238.jpg  \n",
            "  inflating: elefante_frente/train_af_tr242.jpeg  \n",
            "  inflating: elefante_frente/train_af_tr247.jpg  \n",
            "  inflating: elefante_frente/train_af_tr250.jpg  \n",
            "  inflating: elefante_frente/train_af_tr254.jpg  \n",
            "  inflating: elefante_frente/train_af_tr268.jpeg  \n",
            "  inflating: elefante_frente/train_af_tr289.jpeg  \n",
            "  inflating: elefante_frente/train_af_tr290.jpg  \n",
            "  inflating: elefante_frente/train_af_tr295.jpg  \n",
            "  inflating: elefante_frente/train_af_tr297.jpg  \n",
            "  inflating: elefante_frente/train_af_tr31.jpg  \n",
            "  inflating: elefante_frente/train_af_tr318.jpg  \n",
            "  inflating: elefante_frente/train_af_tr319.jpg  \n",
            "  inflating: elefante_frente/train_af_tr333.jpeg  \n",
            "  inflating: elefante_frente/train_af_tr334.jpg  \n",
            "  inflating: elefante_frente/train_af_tr341.jpg  \n",
            "  inflating: elefante_frente/train_af_tr344.jpg  \n",
            "  inflating: elefante_frente/train_af_tr353.jpg  \n",
            "  inflating: elefante_frente/train_af_tr354.jpg  \n",
            "  inflating: elefante_frente/train_af_tr356.jpg  \n",
            "  inflating: elefante_frente/train_af_tr361.jpg  \n",
            "  inflating: elefante_frente/train_af_tr377.jpg  \n",
            "  inflating: elefante_frente/train_af_tr383.jpg  \n",
            "  inflating: elefante_frente/train_af_tr384.jpg  \n",
            "  inflating: elefante_frente/train_af_tr385.jpg  \n",
            "  inflating: elefante_frente/train_af_tr400.jpg  \n",
            "  inflating: elefante_frente/train_af_tr57.jpg  \n",
            "  inflating: elefante_frente/train_af_tr65.jpg  \n",
            "  inflating: elefante_frente/train_af_tr80.jpg  \n",
            "  inflating: elefante_frente/train_af_tr83.jpg  \n",
            "  inflating: elefante_frente/train_af_tr91.jpg  \n",
            "  inflating: elefante_frente/train_as_tr100.jpg  \n",
            "  inflating: elefante_frente/train_as_tr109.jpg  \n",
            "  inflating: elefante_frente/train_as_tr110.jpg  \n",
            "  inflating: elefante_frente/train_as_tr150.jpg  \n",
            "  inflating: elefante_frente/train_as_tr193.jpg  \n",
            "  inflating: elefante_frente/train_as_tr212.jpg  \n",
            "  inflating: elefante_frente/train_as_tr214.jpg  \n",
            "  inflating: elefante_frente/train_as_tr219.jpeg  \n",
            "  inflating: elefante_frente/train_as_tr229.jpg  \n",
            "  inflating: elefante_frente/train_as_tr231.jpg  \n",
            "  inflating: elefante_frente/train_as_tr242.jpg  \n",
            "  inflating: elefante_frente/train_as_tr258.jpeg  \n",
            "  inflating: elefante_frente/train_as_tr261.jpg  \n",
            "  inflating: elefante_frente/train_as_tr282.jpg  \n",
            "  inflating: elefante_frente/train_as_tr283.jpg  \n",
            "  inflating: elefante_frente/train_as_tr295.jpg  \n",
            "  inflating: elefante_frente/train_as_tr332.jpg  \n",
            "  inflating: elefante_frente/train_as_tr344.jpg  \n",
            "  inflating: elefante_frente/train_as_tr364.jpg  \n",
            "  inflating: elefante_frente/train_as_tr37.jpg  \n",
            "  inflating: elefante_frente/train_as_tr372.jpg  \n",
            "  inflating: elefante_frente/train_as_tr375.jpg  \n",
            "  inflating: elefante_frente/train_as_tr403.jpg  \n",
            "  inflating: elefante_frente/train_as_tr409.jpg  \n",
            "  inflating: elefante_frente/train_as_tr77.jpg  \n",
            "  inflating: elefante_frente/train_as_tr79.jpg  \n",
            "  inflating: elefante_frente/train_as_tr95.jpg  \n"
          ]
        }
      ]
    },
    {
      "cell_type": "code",
      "source": [
        "import torch\n",
        "import torch.nn as nn\n",
        "import torch.nn.functional as F\n",
        "import torch.optim as optim\n",
        "from torch.utils.data import DataLoader, Dataset\n",
        "\n",
        "from torchinfo import summary\n",
        "\n",
        "import pandas as pd\n",
        "import matplotlib.pyplot as plt\n",
        "from sklearn.model_selection import train_test_split\n",
        "from sklearn.metrics import (\n",
        "    accuracy_score,\n",
        "    classification_report,\n",
        ")\n",
        "\n",
        "import shutil\n",
        "from collections import Counter\n",
        "import pandas as pd\n",
        "import os\n",
        "import kagglehub\n",
        "from PIL import Image\n",
        "\n",
        "import torchvision.transforms.functional as F\n",
        "import numpy as np\n",
        "import random\n",
        "import math\n",
        "from torchvision import datasets, transforms\n",
        "from torch.utils.data import DataLoader"
      ],
      "metadata": {
        "execution": {
          "iopub.status.busy": "2024-11-26T22:59:53.034923Z",
          "iopub.execute_input": "2024-11-26T22:59:53.035190Z",
          "iopub.status.idle": "2024-11-26T22:59:53.042634Z",
          "shell.execute_reply.started": "2024-11-26T22:59:53.035163Z",
          "shell.execute_reply": "2024-11-26T22:59:53.041839Z"
        },
        "trusted": true,
        "id": "OE2kNINgjchC"
      },
      "outputs": [],
      "execution_count": null
    },
    {
      "cell_type": "markdown",
      "source": [
        "# **Descargamos más imagenes de elefantes.**"
      ],
      "metadata": {
        "id": "9iGDBv-CvDtD"
      }
    },
    {
      "cell_type": "code",
      "source": [
        "path = kagglehub.dataset_download(\"rrebirrth/animals-with-attributes-2\")\n",
        "path = kagglehub.dataset_download(\"vivmankar/asian-vs-african-elephant-image-classification\")"
      ],
      "metadata": {
        "id": "aRiCvSC4kAaD",
        "colab": {
          "base_uri": "https://localhost:8080/"
        },
        "outputId": "f3c25e3a-d8fb-4bad-b387-e3af5cc870d5"
      },
      "execution_count": null,
      "outputs": [
        {
          "output_type": "stream",
          "name": "stdout",
          "text": [
            "Downloading from https://www.kaggle.com/api/v1/datasets/download/rrebirrth/animals-with-attributes-2?dataset_version_number=1...\n"
          ]
        },
        {
          "output_type": "stream",
          "name": "stderr",
          "text": [
            "100%|██████████| 13.0G/13.0G [01:47<00:00, 129MB/s]"
          ]
        },
        {
          "output_type": "stream",
          "name": "stdout",
          "text": [
            "Extracting files...\n"
          ]
        },
        {
          "output_type": "stream",
          "name": "stderr",
          "text": [
            "\n"
          ]
        },
        {
          "output_type": "stream",
          "name": "stdout",
          "text": [
            "Downloading from https://www.kaggle.com/api/v1/datasets/download/vivmankar/asian-vs-african-elephant-image-classification?dataset_version_number=1...\n"
          ]
        },
        {
          "output_type": "stream",
          "name": "stderr",
          "text": [
            "100%|██████████| 51.8M/51.8M [00:00<00:00, 72.7MB/s]"
          ]
        },
        {
          "output_type": "stream",
          "name": "stdout",
          "text": [
            "Extracting files...\n"
          ]
        },
        {
          "output_type": "stream",
          "name": "stderr",
          "text": [
            "\n"
          ]
        }
      ]
    },
    {
      "cell_type": "code",
      "source": [
        "dataset_path = \"/root/.cache/kagglehub/datasets/rrebirrth/animals-with-attributes-2/versions/1/Animals_with_Attributes2/\""
      ],
      "metadata": {
        "id": "CueAJTQkXCqH",
        "execution": {
          "iopub.status.busy": "2024-11-26T22:59:53.043846Z",
          "iopub.execute_input": "2024-11-26T22:59:53.044241Z",
          "iopub.status.idle": "2024-11-26T22:59:53.054739Z",
          "shell.execute_reply.started": "2024-11-26T22:59:53.044201Z",
          "shell.execute_reply": "2024-11-26T22:59:53.053835Z"
        },
        "trusted": true
      },
      "outputs": [],
      "execution_count": null
    },
    {
      "cell_type": "markdown",
      "source": [
        "# **Movemos las imagenes al mismo source**"
      ],
      "metadata": {
        "id": "Gywf3p-IvIJV"
      }
    },
    {
      "cell_type": "code",
      "source": [
        "source_paths = [\n",
        "    \"/root/.cache/kagglehub/datasets/vivmankar/asian-vs-african-elephant-image-classification/versions/1/dataset/test/African\",\n",
        "    \"/root/.cache/kagglehub/datasets/vivmankar/asian-vs-african-elephant-image-classification/versions/1/dataset/test/Asian\",\n",
        "    \"/root/.cache/kagglehub/datasets/vivmankar/asian-vs-african-elephant-image-classification/versions/1/dataset/train/African\",\n",
        "    \"/root/.cache/kagglehub/datasets/vivmankar/asian-vs-african-elephant-image-classification/versions/1/dataset/train/Asian\"\n",
        "]\n",
        "\n",
        "# Ruta de destino\n",
        "destination_path = \"/root/.cache/kagglehub/datasets/rrebirrth/animals-with-attributes-2/versions/1/Animals_with_Attributes2/JPEGImages/elephant\"\n",
        "\n",
        "# Crear el directorio de destino si no existe\n",
        "os.makedirs(destination_path, exist_ok=True)\n",
        "\n",
        "# Mover archivos\n",
        "for source in source_paths:\n",
        "    for filename in os.listdir(source):\n",
        "        if filename.lower().endswith(('.png', '.jpg', '.jpeg')):  # Filtrar imágenes\n",
        "            source_file = os.path.join(source, filename)\n",
        "            prefix = os.path.basename(os.path.dirname(source))  # Nombre de la carpeta padre como prefijo\n",
        "            destination_file = os.path.join(destination_path, f\"{prefix}_{filename}\")\n",
        "\n",
        "            counter = 1\n",
        "            while os.path.exists(destination_file):\n",
        "                destination_file = os.path.join(destination_path, f\"{prefix}_{counter}_{filename}\")\n",
        "                counter += 1\n",
        "\n",
        "            shutil.move(source_file, destination_file)\n",
        "\n",
        "print(\"¡Transferencia completada!\")\n"
      ],
      "metadata": {
        "colab": {
          "base_uri": "https://localhost:8080/"
        },
        "id": "qa1RYyH77cH5",
        "outputId": "34924f3b-6aef-48e6-f4b2-c0a212d244ad"
      },
      "execution_count": null,
      "outputs": [
        {
          "output_type": "stream",
          "name": "stdout",
          "text": [
            "¡Transferencia completada!\n"
          ]
        }
      ]
    },
    {
      "cell_type": "code",
      "source": [
        "pd.set_option(\"display.max_rows\", None)\n",
        "pd.set_option(\"display.max_columns\", None)\n",
        "pd.set_option(\"display.width\", None)\n",
        "pd.set_option(\"display.colheader_justify\", \"left\")"
      ],
      "metadata": {
        "id": "co6WVqK528TQ",
        "execution": {
          "iopub.status.busy": "2024-11-26T22:59:53.055807Z",
          "iopub.execute_input": "2024-11-26T22:59:53.056071Z",
          "iopub.status.idle": "2024-11-26T22:59:53.063014Z",
          "shell.execute_reply.started": "2024-11-26T22:59:53.056047Z",
          "shell.execute_reply": "2024-11-26T22:59:53.062230Z"
        },
        "trusted": true
      },
      "outputs": [],
      "execution_count": null
    },
    {
      "cell_type": "markdown",
      "source": [
        "**SELECCIONAMOS EL ANIMAL Y CLASE QUE IREMOS A UTILIZAR PARA NUESTROS TESTS**"
      ],
      "metadata": {
        "id": "-dcWwCBAwhiR"
      }
    },
    {
      "cell_type": "code",
      "source": [
        "labels_path = os.path.join(dataset_path, \"classes.txt\")  # Cambiar según el archivo disponible\n",
        "classes = pd.read_csv(labels_path, header=None)  # Configurar header según el formato del archivo\n",
        "print(\"Clases en el dataset:\")\n",
        "print(classes.loc[18])\n",
        "\n",
        "attr_path = os.path.join(dataset_path, \"predicates.txt\")\n",
        "features = pd.read_csv(attr_path, header=None)\n",
        "print(\"\\nAtributos de las clases:\")\n",
        "print(features.loc[4])"
      ],
      "metadata": {
        "colab": {
          "base_uri": "https://localhost:8080/"
        },
        "id": "sEshqUgW2-hZ",
        "outputId": "a5da9538-470e-4284-db2e-ecd95145175a",
        "execution": {
          "iopub.status.busy": "2024-11-26T22:59:53.064611Z",
          "iopub.execute_input": "2024-11-26T22:59:53.064934Z",
          "iopub.status.idle": "2024-11-26T22:59:53.086870Z",
          "shell.execute_reply.started": "2024-11-26T22:59:53.064898Z",
          "shell.execute_reply": "2024-11-26T22:59:53.085947Z"
        },
        "trusted": true
      },
      "outputs": [
        {
          "output_type": "stream",
          "name": "stdout",
          "text": [
            "Clases en el dataset:\n",
            "0        19\\telephant\n",
            "Name: 18, dtype: object\n",
            "\n",
            "Atributos de las clases:\n",
            "0         5\\tgray\n",
            "Name: 4, dtype: object\n"
          ]
        }
      ],
      "execution_count": null
    },
    {
      "cell_type": "code",
      "source": [
        "# Define las rutas de origen y destino!\n",
        "source_dir = '/content/elefante_frente'\n",
        "destination_dir = '/root/.cache/kagglehub/datasets/rrebirrth/animals-with-attributes-2/versions/1/Animals_with_Attributes2/JPEGImages/elefante_frente'\n",
        "\n",
        "# Asegúrate de que el directorio de destino exista\n",
        "os.makedirs(os.path.dirname(destination_dir), exist_ok=True)\n",
        "\n",
        "# Copiar la carpeta y su contenido\n",
        "shutil.copytree(source_dir, destination_dir)\n",
        "\n"
      ],
      "metadata": {
        "colab": {
          "base_uri": "https://localhost:8080/",
          "height": 54
        },
        "id": "nHUCN6SIIaNt",
        "outputId": "6e8b8ab5-dd96-44d3-b90c-a5f5c8969caa"
      },
      "execution_count": null,
      "outputs": [
        {
          "output_type": "execute_result",
          "data": {
            "text/plain": [
              "'/root/.cache/kagglehub/datasets/rrebirrth/animals-with-attributes-2/versions/1/Animals_with_Attributes2/JPEGImages/elefante_frente'"
            ],
            "application/vnd.google.colaboratory.intrinsic+json": {
              "type": "string"
            }
          },
          "metadata": {},
          "execution_count": 9
        }
      ]
    },
    {
      "cell_type": "code",
      "source": [
        "import shutil\n",
        "import os\n",
        "from tqdm import tqdm\n",
        "\n",
        "# Definir las rutas de origen y destino\n",
        "source_dir = '/content/elefante_frente'\n",
        "destination_dir = '/root/.cache/kagglehub/datasets/rrebirrth/animals-with-attributes-2/versions/1/Animals_with_Attributes2/JPEGImages/elephant'\n",
        "\n",
        "# Borrar el contenido de la carpeta de destino si existe\n",
        "if os.path.exists(destination_dir):\n",
        "    shutil.rmtree(destination_dir)\n",
        "\n",
        "# Crear la carpeta de destino nuevamente\n",
        "os.makedirs(destination_dir, exist_ok=True)\n",
        "\n",
        "# Copiar el contenido de la carpeta de origen a la carpeta de destino con tqdm para el progreso\n",
        "for item in tqdm(os.listdir(source_dir), desc=\"Copiando archivos\", unit=\"archivo\"):\n",
        "    src_path = os.path.join(source_dir, item)\n",
        "    dst_path = os.path.join(destination_dir, item)\n",
        "\n",
        "    # Copiar archivo o carpeta\n",
        "    if os.path.isdir(src_path):\n",
        "        shutil.copytree(src_path, dst_path)\n",
        "    else:\n",
        "        shutil.copy2(src_path, dst_path)\n",
        "\n",
        "print(\"Contenido copiado exitosamente.\")\n"
      ],
      "metadata": {
        "colab": {
          "base_uri": "https://localhost:8080/"
        },
        "id": "wVtWPXrHJrXY",
        "outputId": "9459244b-f1b4-4855-8a11-9015bab128a1"
      },
      "execution_count": null,
      "outputs": [
        {
          "output_type": "stream",
          "name": "stderr",
          "text": [
            "Copiando archivos: 100%|██████████| 205/205 [00:00<00:00, 1880.71archivo/s]"
          ]
        },
        {
          "output_type": "stream",
          "name": "stdout",
          "text": [
            "Contenido copiado exitosamente.\n"
          ]
        },
        {
          "output_type": "stream",
          "name": "stderr",
          "text": [
            "\n"
          ]
        }
      ]
    },
    {
      "cell_type": "code",
      "source": [
        "import os\n",
        "from collections import Counter\n",
        "\n",
        "# Ruta al dataset\n",
        "dataset_path = \"/root/.cache/kagglehub/datasets/rrebirrth/animals-with-attributes-2/versions/1/Animals_with_Attributes2/JPEGImages\"\n",
        "\n",
        "# Contar imágenes por clase\n",
        "def count_images_by_class(dataset_path):\n",
        "    class_counts = {}\n",
        "\n",
        "    for class_folder in os.listdir(dataset_path):  # Iterar sobre las carpetas de clases\n",
        "        class_path = os.path.join(dataset_path, class_folder)\n",
        "        if os.path.isdir(class_path):  # Verificar que sea una carpeta\n",
        "            # Contar archivos de imagen en la carpeta\n",
        "            num_images = len([file for file in os.listdir(class_path) if file.lower().endswith(('png', 'jpg', 'jpeg'))])\n",
        "            class_counts[class_folder] = num_images\n",
        "\n",
        "    return class_counts\n",
        "\n",
        "# Obtener el conteo de imágenes\n",
        "image_counts = count_images_by_class(dataset_path)\n",
        "\n",
        "# Mostrar el resultado\n",
        "for class_name, count in image_counts.items():\n",
        "    print(f\"Clase '{class_name}': {count} imágenes\")"
      ],
      "metadata": {
        "colab": {
          "base_uri": "https://localhost:8080/"
        },
        "id": "ffAHN8KI8dAQ",
        "outputId": "a5f971c8-5d17-4531-b322-f934aaba64bb"
      },
      "execution_count": null,
      "outputs": [
        {
          "output_type": "stream",
          "name": "stdout",
          "text": [
            "Clase 'mole': 100 imágenes\n",
            "Clase 'wolf': 589 imágenes\n",
            "Clase 'collie': 1028 imágenes\n",
            "Clase 'mouse': 185 imágenes\n",
            "Clase 'persian+cat': 747 imágenes\n",
            "Clase 'horse': 1645 imágenes\n",
            "Clase 'bat': 383 imágenes\n",
            "Clase 'siamese+cat': 500 imágenes\n",
            "Clase 'walrus': 215 imágenes\n",
            "Clase 'rat': 310 imágenes\n",
            "Clase 'bobcat': 630 imágenes\n",
            "Clase 'hippopotamus': 684 imágenes\n",
            "Clase 'grizzly+bear': 852 imágenes\n",
            "Clase 'tiger': 877 imágenes\n",
            "Clase 'blue+whale': 174 imágenes\n",
            "Clase 'dalmatian': 549 imágenes\n",
            "Clase 'beaver': 193 imágenes\n",
            "Clase 'chimpanzee': 728 imágenes\n",
            "Clase 'leopard': 720 imágenes\n",
            "Clase 'rabbit': 1088 imágenes\n",
            "Clase 'squirrel': 1200 imágenes\n",
            "Clase 'humpback+whale': 709 imágenes\n",
            "Clase 'skunk': 188 imágenes\n",
            "Clase 'buffalo': 895 imágenes\n",
            "Clase 'seal': 988 imágenes\n",
            "Clase 'elephant': 205 imágenes\n",
            "Clase 'weasel': 272 imágenes\n",
            "Clase 'raccoon': 512 imágenes\n",
            "Clase 'moose': 704 imágenes\n",
            "Clase 'cow': 1338 imágenes\n",
            "Clase 'dolphin': 946 imágenes\n",
            "Clase 'chihuahua': 567 imágenes\n",
            "Clase 'sheep': 1420 imágenes\n",
            "Clase 'zebra': 1170 imágenes\n",
            "Clase 'polar+bear': 868 imágenes\n",
            "Clase 'ox': 728 imágenes\n",
            "Clase 'lion': 1019 imágenes\n",
            "Clase 'pig': 713 imágenes\n",
            "Clase 'deer': 1344 imágenes\n",
            "Clase 'fox': 664 imágenes\n",
            "Clase 'gorilla': 872 imágenes\n",
            "Clase 'giant+panda': 874 imágenes\n",
            "Clase 'giraffe': 1202 imágenes\n",
            "Clase 'elefante_frente': 205 imágenes\n",
            "Clase 'rhinoceros': 696 imágenes\n",
            "Clase 'german+shepherd': 1033 imágenes\n",
            "Clase 'antelope': 1046 imágenes\n",
            "Clase 'killer+whale': 291 imágenes\n",
            "Clase 'otter': 758 imágenes\n",
            "Clase 'hamster': 779 imágenes\n",
            "Clase 'spider+monkey': 291 imágenes\n"
          ]
        }
      ]
    },
    {
      "cell_type": "code",
      "source": [
        "def show_images(images, labels, title=\"Animals Dataset\"):\n",
        "    n = len(images)\n",
        "    rows = math.floor(math.sqrt(n))\n",
        "    columns = math.ceil(n / rows)\n",
        "    fig, axs = plt.subplots(rows, columns, figsize=(12, 8))\n",
        "    fig.suptitle(title, fontsize=14, y=0.95)\n",
        "    for i in range(rows):\n",
        "        for j in range(columns):\n",
        "            index = i * columns + j\n",
        "            if index < n:\n",
        "                axs[i, j].imshow(images[index])\n",
        "                axs[i, j].set_title(labels[index], fontsize=10)\n",
        "                axs[i, j].axis('off')\n",
        "            else:\n",
        "                axs[i, j].axis('off')\n",
        "                plt.tight_layout(rect=[0, 0, 1, 0.95])\n",
        "                plt.show()\n",
        "\n",
        "def load_classes(classes_file):\n",
        "    classes = {}\n",
        "    with open(classes_file, 'r') as f:\n",
        "        for line in f:\n",
        "            class_id, class_name = line.strip().split()\n",
        "            classes[int(class_id)] = class_name\n",
        "    return classes\n",
        "\n",
        "def load_attributes(predicates_file):\n",
        "    attributes = {}\n",
        "    with open(predicates_file, 'r') as f:\n",
        "        for line in f:\n",
        "            attribute_id, attribute_name = line.strip().split()\n",
        "            attributes[int(attribute_id)] = attribute_name\n",
        "    return attributes\n",
        "\n",
        "def filter_predicate_matrix(predicate_matrix_file, selected_classes, selected_attributes, classes_dict, attributes_dict):\n",
        "    predicate_matrix = np.loadtxt(predicate_matrix_file, dtype=int)\n",
        "\n",
        "    class_indices = [k for k, v in classes_dict.items() if v in selected_classes]\n",
        "    attribute_indices = [k for k, v in attributes_dict.items() if v in selected_attributes]\n",
        "\n",
        "    filtered_matrix = predicate_matrix[np.ix_(class_indices, attribute_indices)]\n",
        "\n",
        "    filtered_classes = {k: classes_dict[k] for k in class_indices}\n",
        "    filtered_attributes = {k: attributes_dict[k] for k in attribute_indices}\n",
        "\n",
        "    return filtered_matrix, filtered_classes, filtered_attributes\n",
        "\n",
        "def load_filtered_data(predicate_matrix_file, selected_classes, selected_attributes, classes_dict, attributes_dict):\n",
        "    predicate_matrix = np.loadtxt(predicate_matrix_file, dtype=int)\n",
        "    class_indices = [k-1 for k, v in classes_dict.items() if v in selected_classes]\n",
        "    attribute_indices = [k-1 for k, v in attributes_dict.items() if v in selected_attributes]\n",
        "    filtered_matrix = predicate_matrix[np.ix_(class_indices, attribute_indices)]\n",
        "    filtered_classes = {k: classes_dict[k] for k in (np.array(class_indices)+1)}\n",
        "    filtered_attributes = {k: attributes_dict[k] for k in (np.array(attribute_indices)+1)}\n",
        "    return filtered_matrix, filtered_classes, filtered_attributes\n",
        "\n",
        "def reindex_classes_and_attributes(filtered_classes, filtered_attributes):\n",
        "\n",
        "    new_class_indices = {old_idx: new_idx for new_idx, old_idx in enumerate(filtered_classes.keys())}\n",
        "    new_attribute_indices = {old_idx: new_idx for new_idx, old_idx in enumerate(filtered_attributes.keys())}\n",
        "    return new_class_indices, new_attribute_indices\n",
        "\n",
        "def is_valid_image(img_path, filtered_class_names):\n",
        "    return any(class_name in img_path for class_name in filtered_class_names)\n",
        "\n",
        "def show_varied_images(dataloader, filtered_classes, filtered_attributes, num_images=8):\n",
        "    \"\"\"\n",
        "    Muestra imágenes del DataLoader con sus clases y atributos, seleccionando ejemplos variados.\n",
        "    \"\"\"\n",
        "    # Obtener un lote del DataLoader\n",
        "    all_images, all_attributes, all_classes = [], [], []\n",
        "\n",
        "    # Iterar sobre varios lotes para recolectar datos\n",
        "    for images, classes, attributes in dataloader:\n",
        "        all_images.extend(images)\n",
        "        all_attributes.extend(attributes)\n",
        "        all_classes.extend(classes)\n",
        "        if len(all_images) >= 100:  # Recolectar un número suficiente de ejemplos\n",
        "            break\n",
        "    new_class_indices, new_attribute_indices = reindex_classes_and_attributes(filtered_classes, filtered_attributes)\n",
        "    reindexed_attributes = {new_idx: name for old_idx, new_idx in new_attribute_indices.items() for k, name in filtered_attributes.items() if k == old_idx}\n",
        "    print(reindexed_attributes)\n",
        "    for images, classes, attributes in dataloader:\n",
        "        print(\"Clases en el lote:\", [filtered_classes[c.item()] for c in classes])\n",
        "        #print(\"Atributos en el lote:\", attributes)\n",
        "        print(\"Atributos en el lote:\", [\n",
        "            [reindexed_attributes[a] for a, val in enumerate(attr) if val == 1]\n",
        "            for attr in attributes\n",
        "        ])\n",
        "        break\n",
        "    # Convertir atributos y clases a nombres\n",
        "    class_names = list(filtered_classes.values())\n",
        "    attribute_names = list(filtered_attributes.values())\n",
        "\n",
        "    # Seleccionar ejemplos variados aleatoriamente\n",
        "    selected_indices = random.sample(range(len(all_images)), num_images)\n",
        "\n",
        "    plt.figure(figsize=(15, 5))\n",
        "    for idx, i in enumerate(selected_indices):\n",
        "        img = all_images[i]\n",
        "        attrs = [attribute_names[j] for j, val in enumerate(all_attributes[i]) if val == 1]\n",
        "        cls = filtered_classes[all_classes[i].item()]\n",
        "\n",
        "        # Deshacer normalización para visualizar correctamente\n",
        "        img = img.permute(1, 2, 0).numpy()  # De [C, H, W] a [H, W, C]\n",
        "        img = (img * 0.5 + 0.5).clip(0, 1)  # Revertir normalización (-1, 1) a (0, 1)\n",
        "\n",
        "        plt.subplot(1, num_images, idx + 1)\n",
        "        plt.imshow((img * 255).astype(\"uint8\"))\n",
        "        plt.axis('off')\n",
        "        plt.title(f\"{cls}\\n\" + (\", \".join(attrs) if attrs else \"No attributes\"))\n",
        "\n",
        "    plt.tight_layout()\n",
        "    plt.show()\n",
        "\n",
        "def generate_cvae_images(model, attr_value, num_samples=5, device='cuda'):\n",
        "    model.eval()\n",
        "    with torch.no_grad():\n",
        "        # Prepare attribute tensor\n",
        "        attr = torch.tensor([[attr_value]]).float().to(device)\n",
        "        attr = attr.repeat(num_samples, 1)\n",
        "\n",
        "        # Generate images\n",
        "        samples = model.sample(num_samples, attr)\n",
        "\n",
        "        # Plot results\n",
        "        plt.figure(figsize=(12, 3))\n",
        "        for i, img in enumerate(samples):\n",
        "            img = img.permute(1, 2, 0).cpu().numpy()\n",
        "            plt.subplot(1, num_samples, i + 1)\n",
        "            plt.imshow(img)\n",
        "            plt.axis('off')\n",
        "\n",
        "        plt.tight_layout()\n",
        "        plt.show()\n",
        "\n",
        "def generate_cvae2_images(model, attr_value, num_samples=5, device='cuda'):\n",
        "    model.eval()\n",
        "    with torch.no_grad():\n",
        "        # Prepare attribute tensor\n",
        "        if isinstance(attr_value, (int, float)):\n",
        "            attr = torch.full((1, model.attr_dim), float(attr_value), device=device)\n",
        "        elif isinstance(attr_value, list):\n",
        "            attr = torch.tensor([attr_value], device=device)\n",
        "        elif isinstance(attr_value, torch.Tensor):\n",
        "            attr = attr_value.to(device)\n",
        "            if attr.dim() == 1:\n",
        "                attr = attr.unsqueeze(0)\n",
        "        else:\n",
        "            raise ValueError(\"attr_value debe ser un int, list o tensor\")\n",
        "\n",
        "        attr = attr.repeat(num_samples, 1)\n",
        "\n",
        "        z = torch.randn(num_samples, model.latent_dim, device=device)\n",
        "        samples = model.decode(z, attr)\n",
        "\n",
        "        plt.figure(figsize=(12, 3))\n",
        "        for i, img in enumerate(samples):\n",
        "            img = img.permute(1, 2, 0).cpu().numpy()\n",
        "            plt.subplot(1, num_samples, i + 1)\n",
        "            plt.imshow(img)\n",
        "            plt.axis('off')\n",
        "\n",
        "        plt.tight_layout()\n",
        "        plt.show()\n",
        "\n",
        "def generate_vae_images(model, num_samples=5, device='cuda'):\n",
        "    model.eval()\n",
        "    with torch.no_grad():\n",
        "        # Sample from normal distribution\n",
        "        z = torch.randn(num_samples, model.z_dim).to(device)\n",
        "\n",
        "        # Generate images\n",
        "        generated_images = model.decode(z)\n",
        "\n",
        "        # Plot results\n",
        "        plt.figure(figsize=(12, 3))\n",
        "        for i, img in enumerate(generated_images):\n",
        "            img = img.permute(1, 2, 0).cpu().numpy()\n",
        "            img = (img + 1) / 2.0  # Convert from [-1,1] to [0,1] range due to tanh\n",
        "            img = np.clip(img, 0, 1)\n",
        "\n",
        "            plt.subplot(1, num_samples, i + 1)\n",
        "            plt.imshow(img)\n",
        "            plt.axis('off')\n",
        "\n",
        "        plt.tight_layout()\n",
        "        plt.show()\n"
      ],
      "metadata": {
        "id": "63tRCNUfx7JT",
        "execution": {
          "iopub.status.busy": "2024-11-26T22:59:53.388878Z",
          "iopub.execute_input": "2024-11-26T22:59:53.389787Z",
          "iopub.status.idle": "2024-11-26T22:59:53.396310Z",
          "shell.execute_reply.started": "2024-11-26T22:59:53.389735Z",
          "shell.execute_reply": "2024-11-26T22:59:53.395503Z"
        },
        "trusted": true
      },
      "outputs": [],
      "execution_count": null
    },
    {
      "cell_type": "markdown",
      "source": [
        "**TRANSFORMACIONES**"
      ],
      "metadata": {
        "id": "I7cjfrN1zIxy"
      }
    },
    {
      "cell_type": "code",
      "source": [
        "DEVICE = \"cpu\"\n",
        "if torch.cuda.is_available():\n",
        "    DEVICE = \"cuda\"\n",
        "elif torch.backends.mps.is_available():\n",
        "    DEVICE = \"mps\"\n",
        "\n",
        "print(f\"Usando {DEVICE}\")\n",
        "\n",
        "NUM_WORKERS = 3\n",
        "BATCH_SIZE = 8"
      ],
      "metadata": {
        "colab": {
          "base_uri": "https://localhost:8080/"
        },
        "id": "kvs1iX8xz781",
        "outputId": "35f8d513-3904-4263-a23a-5bfea15436b3"
      },
      "execution_count": null,
      "outputs": [
        {
          "output_type": "stream",
          "name": "stdout",
          "text": [
            "Usando cuda\n"
          ]
        }
      ]
    },
    {
      "cell_type": "code",
      "source": [
        "transform = transforms.Compose([\n",
        "    transforms.Resize((64, 64)),\n",
        "    transforms.ToTensor(),\n",
        "    transforms.Normalize(mean=[0.5, 0.5, 0.5],std=[0.5, 0.5, 0.5])\n",
        "])"
      ],
      "metadata": {
        "trusted": true,
        "execution": {
          "iopub.status.busy": "2024-11-26T22:59:53.446477Z",
          "iopub.execute_input": "2024-11-26T22:59:53.446813Z",
          "iopub.status.idle": "2024-11-26T22:59:53.454027Z",
          "shell.execute_reply.started": "2024-11-26T22:59:53.446776Z",
          "shell.execute_reply": "2024-11-26T22:59:53.453241Z"
        },
        "id": "UvS8knFrjchE"
      },
      "outputs": [],
      "execution_count": null
    },
    {
      "cell_type": "markdown",
      "source": [
        "**DATASET CLASS**"
      ],
      "metadata": {
        "id": "RjDNPAf9yhf0"
      }
    },
    {
      "cell_type": "code",
      "source": [
        "class AnimalAttributesDataset(Dataset):\n",
        "    def __init__(self, root, transform, filtered_classes, filtered_matrix):\n",
        "        self.root = root\n",
        "        self.transform = transform\n",
        "        self.samples = []\n",
        "        self.filtered_matrix = filtered_matrix\n",
        "\n",
        "        class_to_new_idx = {orig_idx: new_idx for new_idx, orig_idx in enumerate(filtered_classes)}\n",
        "\n",
        "        for class_idx, class_name in enumerate(filtered_classes):\n",
        "            class_dir = os.path.join(root, classes_dict[class_name])\n",
        "            if os.path.isdir(class_dir):\n",
        "                for img_name in os.listdir(class_dir):\n",
        "                    if img_name.lower().endswith(('.png', '.jpg', '.jpeg')):\n",
        "                        img_path = os.path.join(class_dir, img_name)\n",
        "                        self.samples.append((img_path, class_name, self.filtered_matrix[class_idx]))\n",
        "\n",
        "\n",
        "    def __len__(self):\n",
        "        return len(self.samples)\n",
        "\n",
        "    def __getitem__(self, index):\n",
        "        img_path, img_class, attributes = self.samples[index]\n",
        "        image = Image.open(img_path).convert(\"RGB\")\n",
        "        if self.transform:\n",
        "            image = self.transform(image)\n",
        "        attributes = torch.tensor(attributes, dtype=torch.float32)\n",
        "        image_class = torch.tensor(img_class, dtype=torch.int32)\n",
        "        return image, image_class, attributes"
      ],
      "metadata": {
        "trusted": true,
        "execution": {
          "iopub.status.busy": "2024-11-26T22:59:53.455056Z",
          "iopub.execute_input": "2024-11-26T22:59:53.455397Z",
          "iopub.status.idle": "2024-11-26T22:59:53.463250Z",
          "shell.execute_reply.started": "2024-11-26T22:59:53.455362Z",
          "shell.execute_reply": "2024-11-26T22:59:53.462638Z"
        },
        "id": "gfAHwzc4jchE"
      },
      "outputs": [],
      "execution_count": null
    },
    {
      "cell_type": "code",
      "source": [
        "classes_file = labels_path\n",
        "predicates_file = attr_path\n",
        "predicate_matrix_file = \"/root/.cache/kagglehub/datasets/rrebirrth/animals-with-attributes-2/versions/1/Animals_with_Attributes2/predicate-matrix-binary.txt\"\n",
        "\n",
        "classes_dict = load_classes(classes_file)\n",
        "attributes_dict = load_attributes(predicates_file)\n",
        "print(\"Classes dict: \", classes_dict)\n",
        "\n",
        "selected_classes = [\"elephant\"]  # Nombres de las especies\n",
        "selected_attributes = [\"gray\"]  # Nombres de atributos\n",
        "\n",
        "filtered_matrix, filtered_classes, filtered_attributes = load_filtered_data(\n",
        "    predicate_matrix_file, selected_classes, selected_attributes, classes_dict, attributes_dict\n",
        ")\n",
        "\n",
        "print(\"Clases seleccionadas:\", filtered_classes)\n",
        "print(\"Atributos seleccionados:\", filtered_attributes)\n",
        "print(\"Matriz filtrada:\\n\", filtered_matrix)\n",
        "\n",
        "new_class_indices, new_attribute_indices = reindex_classes_and_attributes(filtered_classes, filtered_attributes)\n",
        "\n",
        "print(\"Nuevos índices para clases:\", new_class_indices)\n",
        "print(\"Nuevos índices para atributos:\", new_attribute_indices)\n",
        "print()\n",
        "\n",
        "print(\"Clases seleccionadas (reindexadas):\", {new_idx: name for old_idx, new_idx in new_class_indices.items() for k, name in filtered_classes.items() if k == old_idx})\n",
        "print(\"Atributos seleccionados (reindexados):\", {new_idx: name for old_idx, new_idx in new_attribute_indices.items() for k, name in filtered_attributes.items() if k == old_idx})\n",
        "print(\"Matriz filtrada:\\n\", filtered_matrix)"
      ],
      "metadata": {
        "trusted": true,
        "execution": {
          "iopub.status.busy": "2024-11-26T22:59:53.431491Z",
          "iopub.execute_input": "2024-11-26T22:59:53.432016Z",
          "iopub.status.idle": "2024-11-26T22:59:53.445473Z",
          "shell.execute_reply.started": "2024-11-26T22:59:53.431980Z",
          "shell.execute_reply": "2024-11-26T22:59:53.444632Z"
        },
        "id": "TGo3hBJcjchE",
        "outputId": "c88a6587-667d-488e-ba90-5a422459d3e3",
        "colab": {
          "base_uri": "https://localhost:8080/"
        }
      },
      "outputs": [
        {
          "output_type": "stream",
          "name": "stdout",
          "text": [
            "Classes dict:  {1: 'antelope', 2: 'grizzly+bear', 3: 'killer+whale', 4: 'beaver', 5: 'dalmatian', 6: 'persian+cat', 7: 'horse', 8: 'german+shepherd', 9: 'blue+whale', 10: 'siamese+cat', 11: 'skunk', 12: 'mole', 13: 'tiger', 14: 'hippopotamus', 15: 'leopard', 16: 'moose', 17: 'spider+monkey', 18: 'humpback+whale', 19: 'elephant', 20: 'gorilla', 21: 'ox', 22: 'fox', 23: 'sheep', 24: 'seal', 25: 'chimpanzee', 26: 'hamster', 27: 'squirrel', 28: 'rhinoceros', 29: 'rabbit', 30: 'bat', 31: 'giraffe', 32: 'wolf', 33: 'chihuahua', 34: 'rat', 35: 'weasel', 36: 'otter', 37: 'buffalo', 38: 'zebra', 39: 'giant+panda', 40: 'deer', 41: 'bobcat', 42: 'pig', 43: 'lion', 44: 'mouse', 45: 'polar+bear', 46: 'collie', 47: 'walrus', 48: 'raccoon', 49: 'cow', 50: 'dolphin'}\n",
            "Clases seleccionadas: {19: 'elephant'}\n",
            "Atributos seleccionados: {5: 'gray'}\n",
            "Matriz filtrada:\n",
            " [[1]]\n",
            "Nuevos índices para clases: {19: 0}\n",
            "Nuevos índices para atributos: {5: 0}\n",
            "\n",
            "Clases seleccionadas (reindexadas): {0: 'elephant'}\n",
            "Atributos seleccionados (reindexados): {0: 'gray'}\n",
            "Matriz filtrada:\n",
            " [[1]]\n"
          ]
        }
      ],
      "execution_count": null
    },
    {
      "cell_type": "code",
      "source": [
        "# Ruta al dataset\n",
        "images_path = \"/root/.cache/kagglehub/datasets/rrebirrth/animals-with-attributes-2/versions/1/Animals_with_Attributes2/JPEGImages\"\n",
        "\n",
        "selected_classes = [\"elephant\"]  # Nombres de las especies\n",
        "selected_attributes = [\"gray\"]  # Nombres de atributos\n",
        "# Cargar clases y atributos\n",
        "classes_dict = load_classes(classes_file)\n",
        "attributes_dict = load_attributes(predicates_file)\n",
        "\n",
        "# Filtrar clases y atributos\n",
        "filtered_matrix, filtered_classes, filtered_attributes = load_filtered_data(\n",
        "    predicate_matrix_file, selected_classes, selected_attributes, classes_dict, attributes_dict\n",
        ")\n",
        "\n",
        "# Crear dataset y dataloader\n",
        "dataset = AnimalAttributesDataset(\n",
        "    root=images_path,\n",
        "    transform=transform,\n",
        "    filtered_classes=filtered_classes,\n",
        "    filtered_matrix=filtered_matrix\n",
        ")\n",
        "if len(dataset) > 0:\n",
        "    dataloader = DataLoader(dataset, batch_size=8, shuffle=True)\n",
        "else:\n",
        "    print(\"El dataset está vacío. Verifica tus datos de entrada.\")\n",
        "\n",
        "for images, images_classes, attributes in dataloader:\n",
        "    print(\"CONTENIDO DEL DATALOADER\")\n",
        "    print(f\"Batch de imágenes: {images.size()}, \\nBatch de especies: {images_classes.size()}, \\nBatch de atributos: {attributes.size()}\")\n",
        "    break"
      ],
      "metadata": {
        "trusted": true,
        "execution": {
          "iopub.status.busy": "2024-11-26T22:59:53.464219Z",
          "iopub.execute_input": "2024-11-26T22:59:53.464481Z",
          "iopub.status.idle": "2024-11-26T22:59:54.467158Z",
          "shell.execute_reply.started": "2024-11-26T22:59:53.464458Z",
          "shell.execute_reply": "2024-11-26T22:59:54.466199Z"
        },
        "id": "1ST_0G2wjchE",
        "outputId": "9082e046-2ff2-4146-c349-9bb2e834d962",
        "colab": {
          "base_uri": "https://localhost:8080/"
        }
      },
      "outputs": [
        {
          "output_type": "stream",
          "name": "stdout",
          "text": [
            "CONTENIDO DEL DATALOADER\n",
            "Batch de imágenes: torch.Size([8, 3, 64, 64]), \n",
            "Batch de especies: torch.Size([8]), \n",
            "Batch de atributos: torch.Size([8, 1])\n"
          ]
        }
      ],
      "execution_count": null
    },
    {
      "cell_type": "code",
      "source": [
        "print(f\"Tipo de filtered_matrix: {type(filtered_matrix)}\")\n",
        "print(f\"Contenido: {filtered_matrix}\")\n",
        "print(f\"Tamaño: {len(filtered_matrix) if hasattr(filtered_matrix, '__len__') else 'N/A'}\")"
      ],
      "metadata": {
        "colab": {
          "base_uri": "https://localhost:8080/"
        },
        "id": "9dR1B8zv-JXO",
        "outputId": "11e823c6-7879-4bd2-fd51-4f83c508dd8e"
      },
      "execution_count": null,
      "outputs": [
        {
          "output_type": "stream",
          "name": "stdout",
          "text": [
            "Tipo de filtered_matrix: <class 'numpy.ndarray'>\n",
            "Contenido: [[1]]\n",
            "Tamaño: 1\n"
          ]
        }
      ]
    },
    {
      "cell_type": "code",
      "source": [
        "show_varied_images(dataloader, filtered_classes, filtered_attributes, num_images=5)"
      ],
      "metadata": {
        "trusted": true,
        "execution": {
          "iopub.status.busy": "2024-11-26T22:59:54.468134Z",
          "iopub.execute_input": "2024-11-26T22:59:54.468428Z",
          "iopub.status.idle": "2024-11-26T22:59:58.512415Z",
          "shell.execute_reply.started": "2024-11-26T22:59:54.468402Z",
          "shell.execute_reply": "2024-11-26T22:59:58.511509Z"
        },
        "id": "3V4Tu1d8jchE",
        "outputId": "971e0144-f651-4ee4-cf40-143098c19b7d",
        "colab": {
          "base_uri": "https://localhost:8080/",
          "height": 281
        }
      },
      "outputs": [
        {
          "output_type": "stream",
          "name": "stdout",
          "text": [
            "{0: 'gray'}\n",
            "Clases en el lote: ['elephant', 'elephant', 'elephant', 'elephant', 'elephant', 'elephant', 'elephant', 'elephant']\n",
            "Atributos en el lote: [['gray'], ['gray'], ['gray'], ['gray'], ['gray'], ['gray'], ['gray'], ['gray']]\n"
          ]
        },
        {
          "output_type": "display_data",
          "data": {
            "text/plain": [
              "<Figure size 1500x500 with 5 Axes>"
            ],
            "image/png": "[encoded data removed]"
          },
          "metadata": {}
        }
      ],
      "execution_count": null
    },
    {
      "cell_type": "markdown",
      "source": [
        "**Loss function**"
      ],
      "metadata": {
        "id": "i5nD8InFqRMy"
      }
    },
    {
      "cell_type": "code",
      "source": [
        "import torch.nn.functional as F\n",
        "def loss_function(x, x_hat, mean, log_var):\n",
        "    reconstruction_loss = F.mse_loss(x_hat, x, reduction='sum')\n",
        "\n",
        "    # KL divergence entre la distribución latente y la distribución estándar normal\n",
        "    kl_divergence = -0.5 * torch.sum(1 + log_var - mean.pow(2) - log_var.exp())\n",
        "\n",
        "    total_loss = reconstruction_loss + kl_divergence\n",
        "    return total_loss"
      ],
      "metadata": {
        "id": "cHEDZuQvNHb1"
      },
      "execution_count": null,
      "outputs": []
    },
    {
      "cell_type": "markdown",
      "source": [
        "**Train models**"
      ],
      "metadata": {
        "id": "kXzd956TqOIL"
      }
    },
    {
      "cell_type": "code",
      "source": [
        "def train_cvae_model(model, dataloader, optimizer, epochs=10, device='cuda'):\n",
        "    model = model.to(device)\n",
        "\n",
        "    for epoch in range(epochs):\n",
        "        model.train()\n",
        "        total_loss = 0\n",
        "        n_batches = 0\n",
        "\n",
        "        for images, batches, attributes in dataloader:\n",
        "            images = images.to(device)\n",
        "            batches = batches.to(device)\n",
        "            attributes = attributes.to(device)\n",
        "\n",
        "            optimizer.zero_grad()\n",
        "            recon_images, mu, log_var = model(images, attributes)\n",
        "            loss = loss_function(recon_images, images, mu, log_var)\n",
        "\n",
        "            loss.backward()\n",
        "            optimizer.step()\n",
        "            total_loss += loss.item()\n",
        "            n_batches += 1\n",
        "\n",
        "        avg_loss = total_loss / n_batches\n",
        "        print(f\"Epoch {epoch+1}, Loss: {avg_loss:.4f}\")\n",
        "\n",
        "\n",
        "def train_vae_model(model, dataloader, optimizer, num_epochs=10, device='cuda'):\n",
        "\n",
        "    model = model.to(device)\n",
        "\n",
        "    for epoch in range(num_epochs):\n",
        "        model.train()\n",
        "        total_loss = 0\n",
        "        for batch_idx, (images, _, _) in enumerate(dataloader):\n",
        "            images = images.to(device)\n",
        "\n",
        "            optimizer.zero_grad()\n",
        "\n",
        "            recon_batch, mu, logvar = model(images)\n",
        "\n",
        "            loss = loss_function(recon_batch, images, mu, logvar)\n",
        "\n",
        "            loss.backward()\n",
        "            optimizer.step()\n",
        "\n",
        "            total_loss += loss.item()\n",
        "\n",
        "            if batch_idx % 100 == 0:\n",
        "                print(f'Epoch {epoch+1}/{num_epochs}, Batch {batch_idx}, Loss: {loss.item()/len(images):.4f}')\n",
        "\n",
        "        avg_loss = total_loss / len(dataloader.dataset)\n",
        "        print(f'====> Epoch {epoch+1}: Average loss = {avg_loss:.4f}')"
      ],
      "metadata": {
        "id": "DWW6iZaONvFr"
      },
      "execution_count": null,
      "outputs": []
    },
    {
      "cell_type": "markdown",
      "source": [
        "***MODELOS***"
      ],
      "metadata": {
        "id": "Hw26x8Z-L4_J"
      }
    },
    {
      "cell_type": "markdown",
      "source": [
        "**UNO: CVAE**"
      ],
      "metadata": {
        "id": "lYrBdfM0L78_"
      }
    },
    {
      "cell_type": "code",
      "source": [
        "class ConditionalVAE(nn.Module):\n",
        "    def __init__(self, img_channels, img_size, num_hidden, num_classes):\n",
        "        super().__init__()\n",
        "        self.img_size = img_size\n",
        "        self.num_hidden = num_hidden\n",
        "\n",
        "        # Encoder\n",
        "        self.encoder = nn.Sequential(\n",
        "            nn.Conv2d(img_channels, 32, kernel_size=4, stride=2, padding=1),\n",
        "            nn.ReLU(),\n",
        "            nn.Conv2d(32, 64, kernel_size=4, stride=2, padding=1),\n",
        "            nn.ReLU(),\n",
        "            nn.Flatten(),\n",
        "            nn.Linear(64 * (img_size // 4)**2, num_hidden),\n",
        "        )\n",
        "        self.mu = nn.Linear(num_hidden, num_hidden)\n",
        "        self.log_var = nn.Linear(num_hidden, num_hidden)\n",
        "\n",
        "        # Decoder\n",
        "        self.decoder = nn.Sequential(\n",
        "            nn.Linear(num_hidden + num_classes, 64 * (img_size // 4)**2),\n",
        "            nn.ReLU(),\n",
        "            nn.Unflatten(1, (64, img_size // 4, img_size // 4)),\n",
        "            nn.ConvTranspose2d(64, 32, kernel_size=4, stride=2, padding=1),\n",
        "            nn.ReLU(),\n",
        "            nn.ConvTranspose2d(32, img_channels, kernel_size=4, stride=2, padding=1),\n",
        "            nn.Sigmoid(),\n",
        "        )\n",
        "\n",
        "    def reparameterize(self, mu, log_var):\n",
        "        std = torch.exp(0.5 * log_var)\n",
        "        eps = torch.randn_like(std)\n",
        "        return mu + eps * std\n",
        "\n",
        "    def forward(self, x, y):\n",
        "        if y.dim() == 1:\n",
        "            y = F.one_hot(y, num_classes=self.decoder[0].in_features - self.num_hidden).float()\n",
        "        encoded = self.encoder(x)\n",
        "        mu = self.mu(encoded)\n",
        "        log_var = self.log_var(encoded)\n",
        "        z = self.reparameterize(mu, log_var)\n",
        "        z_cond = torch.cat([z, y], dim=1)\n",
        "        decoded = self.decoder(z_cond)\n",
        "        return decoded, mu, log_var\n",
        "\n",
        "    def sample(self, num_samples, y):\n",
        "        with torch.no_grad():\n",
        "            z = torch.randn(num_samples, self.num_hidden).to(y.device)\n",
        "            y_expanded = y.expand(num_samples, -1)\n",
        "            z_cond = torch.cat([z, y_expanded], dim=1)\n",
        "            samples = self.decoder(z_cond)\n",
        "        return samples"
      ],
      "metadata": {
        "id": "5KoQPKmOMVFm"
      },
      "execution_count": null,
      "outputs": []
    },
    {
      "cell_type": "markdown",
      "source": [
        "**Model Summary**"
      ],
      "metadata": {
        "id": "rI_UGfPZr0Ar"
      }
    },
    {
      "cell_type": "code",
      "source": [
        "dummy_images = torch.randn(8, 3, 64, 64)  # [B, C, H, W]\n",
        "dummy_attrs = torch.randn(8, 1)  # [B, attr_dim]\n",
        "\n",
        "# Instancia el modelo\n",
        "model = ConditionalVAE(img_channels=3, img_size=64, num_hidden=512, num_classes=1)\n",
        "\n",
        "# Usa torchinfo.summary con input_data\n",
        "summary(\n",
        "    model,\n",
        "    input_data=(dummy_images,dummy_attrs),\n",
        ")"
      ],
      "metadata": {
        "colab": {
          "base_uri": "https://localhost:8080/"
        },
        "id": "3qp9IghhMWJU",
        "outputId": "6e5f868e-dbba-4b41-a2b2-41710adf6d8b"
      },
      "execution_count": null,
      "outputs": [
        {
          "output_type": "execute_result",
          "data": {
            "text/plain": [
              "==========================================================================================\n",
              "Layer (type:depth-idx)                   Output Shape              Param #\n",
              "==========================================================================================\n",
              "ConditionalVAE                           [8, 3, 64, 64]            --\n",
              "├─Sequential: 1-1                        [8, 512]                  --\n",
              "│    └─Conv2d: 2-1                       [8, 32, 32, 32]           1,568\n",
              "│    └─ReLU: 2-2                         [8, 32, 32, 32]           --\n",
              "│    └─Conv2d: 2-3                       [8, 64, 16, 16]           32,832\n",
              "│    └─ReLU: 2-4                         [8, 64, 16, 16]           --\n",
              "│    └─Flatten: 2-5                      [8, 16384]                --\n",
              "│    └─Linear: 2-6                       [8, 512]                  8,389,120\n",
              "├─Linear: 1-2                            [8, 512]                  262,656\n",
              "├─Linear: 1-3                            [8, 512]                  262,656\n",
              "├─Sequential: 1-4                        [8, 3, 64, 64]            --\n",
              "│    └─Linear: 2-7                       [8, 16384]                8,421,376\n",
              "│    └─ReLU: 2-8                         [8, 16384]                --\n",
              "│    └─Unflatten: 2-9                    [8, 64, 16, 16]           --\n",
              "│    └─ConvTranspose2d: 2-10             [8, 32, 32, 32]           32,800\n",
              "│    └─ReLU: 2-11                        [8, 32, 32, 32]           --\n",
              "│    └─ConvTranspose2d: 2-12             [8, 3, 64, 64]            1,539\n",
              "│    └─Sigmoid: 2-13                     [8, 3, 64, 64]            --\n",
              "==========================================================================================\n",
              "Total params: 17,404,547\n",
              "Trainable params: 17,404,547\n",
              "Non-trainable params: 0\n",
              "Total mult-adds (M): 537.90\n",
              "==========================================================================================\n",
              "Input size (MB): 0.39\n",
              "Forward/backward pass size (MB): 7.18\n",
              "Params size (MB): 69.62\n",
              "Estimated Total Size (MB): 77.19\n",
              "=========================================================================================="
            ]
          },
          "metadata": {},
          "execution_count": 30
        }
      ]
    },
    {
      "cell_type": "markdown",
      "source": [
        "**Train Model**"
      ],
      "metadata": {
        "id": "a-21Rx1Qr3-q"
      }
    },
    {
      "cell_type": "code",
      "source": [
        "device = 'cuda' if torch.cuda.is_available() else 'cpu'\n",
        "\n",
        "lr = 1e-4\n",
        "img_size = 64\n",
        "num_hidden = 512\n",
        "num_classes = 1\n",
        "\n",
        "epochs = 30"
      ],
      "metadata": {
        "id": "TeN8MZ8Or9uJ"
      },
      "execution_count": null,
      "outputs": []
    },
    {
      "cell_type": "code",
      "source": [
        "model = ConditionalVAE(img_channels=3, img_size=img_size, num_hidden=num_hidden, num_classes=num_classes).to(device)\n",
        "optimizer = torch.optim.Adam(model.parameters(), lr=lr)"
      ],
      "metadata": {
        "id": "52A1y7Tnr9nD"
      },
      "execution_count": null,
      "outputs": []
    },
    {
      "cell_type": "code",
      "source": [
        "train_cvae_model(model, dataloader, optimizer, epochs, device)"
      ],
      "metadata": {
        "colab": {
          "base_uri": "https://localhost:8080/"
        },
        "id": "RicGV4DMr9Z6",
        "outputId": "d30993f8-f15a-4188-f3fa-06cbbe281776"
      },
      "execution_count": null,
      "outputs": [
        {
          "output_type": "stream",
          "name": "stdout",
          "text": [
            "Epoch 1, Loss: 146832.4766\n",
            "Epoch 2, Loss: 95861.8286\n",
            "Epoch 3, Loss: 76845.8041\n",
            "Epoch 4, Loss: 73482.3430\n",
            "Epoch 5, Loss: 72045.2357\n",
            "Epoch 6, Loss: 71220.5158\n",
            "Epoch 7, Loss: 70647.0663\n",
            "Epoch 8, Loss: 70287.5666\n",
            "Epoch 9, Loss: 69975.4196\n",
            "Epoch 10, Loss: 69751.5793\n",
            "Epoch 11, Loss: 69588.6082\n",
            "Epoch 12, Loss: 69423.9467\n",
            "Epoch 13, Loss: 69338.8651\n",
            "Epoch 14, Loss: 69227.3845\n",
            "Epoch 15, Loss: 69121.9055\n",
            "Epoch 16, Loss: 69054.3018\n",
            "Epoch 17, Loss: 69000.8184\n",
            "Epoch 18, Loss: 68953.3607\n",
            "Epoch 19, Loss: 68914.9983\n",
            "Epoch 20, Loss: 68861.8487\n",
            "Epoch 21, Loss: 68815.4465\n",
            "Epoch 22, Loss: 68778.9715\n",
            "Epoch 23, Loss: 68746.8733\n",
            "Epoch 24, Loss: 68716.4943\n",
            "Epoch 25, Loss: 68693.6618\n",
            "Epoch 26, Loss: 68663.3269\n",
            "Epoch 27, Loss: 68649.1480\n",
            "Epoch 28, Loss: 68619.3553\n",
            "Epoch 29, Loss: 68603.7816\n",
            "Epoch 30, Loss: 68593.5491\n"
          ]
        }
      ]
    },
    {
      "cell_type": "code",
      "source": [
        "generate_cvae_images(model, attr_value=1.0, num_samples=5)"
      ],
      "metadata": {
        "colab": {
          "base_uri": "https://localhost:8080/",
          "height": 183
        },
        "id": "N5oKJlWfr9Wc",
        "outputId": "d04472e6-78a6-4a44-81d4-54151a25e703"
      },
      "execution_count": null,
      "outputs": [
        {
          "output_type": "display_data",
          "data": {
            "text/plain": [
              "<Figure size 1200x300 with 5 Axes>"
            ],
            "image/png": "[encoded data removed]"
          },
          "metadata": {}
        }
      ]
    },
    {
      "cell_type": "markdown",
      "source": [
        "**DOS: CVAE w/improvments: conv2d + dropout + batchnorm**"
      ],
      "metadata": {
        "id": "wpCKcWbayfuf"
      }
    },
    {
      "cell_type": "code",
      "source": [
        "class CVAE(nn.Module):\n",
        "    def __init__(self, image_size, latent_dim, attr_dim, dropout_prob=0.3):\n",
        "        super(CVAE, self).__init__()\n",
        "        self.latent_dim = latent_dim\n",
        "        self.attr_dim = attr_dim\n",
        "        self.image_size = image_size\n",
        "        self.dropout_prob = dropout_prob\n",
        "\n",
        "        # Encoder\n",
        "        self.encoder = nn.Sequential(\n",
        "            nn.Conv2d(3, 32, kernel_size=4, stride=2, padding=1),  # [B, 32, H/2, W/2]\n",
        "            nn.LeakyReLU(negative_slope=0.2),\n",
        "            nn.BatchNorm2d(32),\n",
        "            nn.Dropout2d(p=self.dropout_prob),\n",
        "            nn.Conv2d(32, 64, kernel_size=4, stride=2, padding=1),  # [B, 64, H/4, W/4]\n",
        "            nn.LeakyReLU(negative_slope=0.2),\n",
        "            nn.BatchNorm2d(64),\n",
        "            nn.Dropout2d(p=self.dropout_prob),\n",
        "            nn.Conv2d(64, 128, kernel_size=4, stride=2, padding=1),  # [B, 128, H/8, W/8]\n",
        "            nn.LeakyReLU(negative_slope=0.2),\n",
        "            nn.BatchNorm2d(128),\n",
        "            nn.Dropout2d(p=self.dropout_prob),\n",
        "            nn.Conv2d(128, 256, kernel_size=4, stride=2, padding=1),  # [B, 256, H/16, W/16]\n",
        "            nn.LeakyReLU(negative_slope=0.2),\n",
        "            nn.BatchNorm2d(256),\n",
        "            nn.Dropout2d(p=self.dropout_prob),\n",
        "            nn.Flatten()\n",
        "        )\n",
        "\n",
        "        flat_dim = (image_size // 16) * (image_size // 16) * 256  # Ajustado a 256 canales\n",
        "        self.fc_mu = nn.Linear(flat_dim, latent_dim)\n",
        "        self.fc_logvar = nn.Linear(flat_dim, latent_dim)\n",
        "\n",
        "        # Decoder\n",
        "        self.decoder_input = nn.Linear(latent_dim + attr_dim, flat_dim)\n",
        "        self.decoder = nn.Sequential(\n",
        "            nn.ConvTranspose2d(256, 128, kernel_size=4, stride=2, padding=1),  # [B, 128, H/8, W/8]\n",
        "            nn.LeakyReLU(negative_slope=0.2),\n",
        "            nn.BatchNorm2d(128),\n",
        "            nn.Dropout2d(p=self.dropout_prob),\n",
        "            nn.ConvTranspose2d(128, 64, kernel_size=4, stride=2, padding=1),   # [B, 64, H/4, W/4]\n",
        "            nn.LeakyReLU(negative_slope=0.2),\n",
        "            nn.BatchNorm2d(64),\n",
        "            nn.Dropout2d(p=self.dropout_prob),\n",
        "            nn.ConvTranspose2d(64, 32, kernel_size=4, stride=2, padding=1),    # [B, 32, H/2, W/2]\n",
        "            nn.LeakyReLU(negative_slope=0.2),\n",
        "            nn.BatchNorm2d(32),\n",
        "            nn.Dropout2d(p=self.dropout_prob),\n",
        "            nn.ConvTranspose2d(32, 3, kernel_size=4, stride=2, padding=1),     # [B, 3, H, W]\n",
        "            nn.Sigmoid()  # Escala a [0, 1] para imágenes\n",
        "        )\n",
        "\n",
        "    def encode(self, x):\n",
        "        h = self.encoder(x)\n",
        "        mu = self.fc_mu(h)\n",
        "        logvar = self.fc_logvar(h)\n",
        "        return mu, logvar\n",
        "\n",
        "    def reparameterize(self, mu, logvar):\n",
        "        std = torch.exp(0.5 * logvar)\n",
        "        eps = torch.randn_like(std)\n",
        "        return mu + eps * std\n",
        "\n",
        "    def decode(self, z, attrs):\n",
        "        z_cond = torch.cat([z, attrs], dim=1)\n",
        "        h = self.decoder_input(z_cond)\n",
        "        h = h.view(h.size(0), 256, self.image_size // 16, self.image_size // 16)  # Ajustado a 256 canales\n",
        "        return self.decoder(h)\n",
        "\n",
        "    def forward(self, x, attrs):\n",
        "        # Encode\n",
        "        mu, logvar = self.encode(x)\n",
        "        z = self.reparameterize(mu, logvar)\n",
        "\n",
        "        # Decode\n",
        "        recon_x = self.decode(z, attrs)\n",
        "\n",
        "        return recon_x, mu, logvar"
      ],
      "metadata": {
        "id": "xkCzicPrMVqK"
      },
      "execution_count": null,
      "outputs": []
    },
    {
      "cell_type": "markdown",
      "source": [
        "**Model Summary**"
      ],
      "metadata": {
        "id": "eHvgtpopyRsE"
      }
    },
    {
      "cell_type": "code",
      "source": [
        "# Crea datos ficticios para la imagen y los atributos\n",
        "dummy_images = torch.randn(8, 3, 64, 64)  # [B, C, H, W]\n",
        "dummy_attrs = torch.randn(8, 1)  # [B, attr_dim]\n",
        "\n",
        "# Instancia el modelo\n",
        "model = CVAE(image_size=64, latent_dim=512, attr_dim=1, dropout_prob=0.3)\n",
        "\n",
        "# Usa torchinfo.summary con input_data\n",
        "summary(\n",
        "    model,\n",
        "    input_data=(dummy_images,dummy_attrs),\n",
        ")"
      ],
      "metadata": {
        "colab": {
          "base_uri": "https://localhost:8080/"
        },
        "id": "sh_xCTTFMWYV",
        "outputId": "c1636228-4ce5-4974-d699-605b454b8b28"
      },
      "execution_count": null,
      "outputs": [
        {
          "output_type": "execute_result",
          "data": {
            "text/plain": [
              "==========================================================================================\n",
              "Layer (type:depth-idx)                   Output Shape              Param #\n",
              "==========================================================================================\n",
              "CVAE                                     [8, 3, 64, 64]            --\n",
              "├─Sequential: 1-1                        [8, 4096]                 --\n",
              "│    └─Conv2d: 2-1                       [8, 32, 32, 32]           1,568\n",
              "│    └─LeakyReLU: 2-2                    [8, 32, 32, 32]           --\n",
              "│    └─BatchNorm2d: 2-3                  [8, 32, 32, 32]           64\n",
              "│    └─Dropout2d: 2-4                    [8, 32, 32, 32]           --\n",
              "│    └─Conv2d: 2-5                       [8, 64, 16, 16]           32,832\n",
              "│    └─LeakyReLU: 2-6                    [8, 64, 16, 16]           --\n",
              "│    └─BatchNorm2d: 2-7                  [8, 64, 16, 16]           128\n",
              "│    └─Dropout2d: 2-8                    [8, 64, 16, 16]           --\n",
              "│    └─Conv2d: 2-9                       [8, 128, 8, 8]            131,200\n",
              "│    └─LeakyReLU: 2-10                   [8, 128, 8, 8]            --\n",
              "│    └─BatchNorm2d: 2-11                 [8, 128, 8, 8]            256\n",
              "│    └─Dropout2d: 2-12                   [8, 128, 8, 8]            --\n",
              "│    └─Conv2d: 2-13                      [8, 256, 4, 4]            524,544\n",
              "│    └─LeakyReLU: 2-14                   [8, 256, 4, 4]            --\n",
              "│    └─BatchNorm2d: 2-15                 [8, 256, 4, 4]            512\n",
              "│    └─Dropout2d: 2-16                   [8, 256, 4, 4]            --\n",
              "│    └─Flatten: 2-17                     [8, 4096]                 --\n",
              "├─Linear: 1-2                            [8, 512]                  2,097,664\n",
              "├─Linear: 1-3                            [8, 512]                  2,097,664\n",
              "├─Linear: 1-4                            [8, 4096]                 2,105,344\n",
              "├─Sequential: 1-5                        [8, 3, 64, 64]            --\n",
              "│    └─ConvTranspose2d: 2-18             [8, 128, 8, 8]            524,416\n",
              "│    └─LeakyReLU: 2-19                   [8, 128, 8, 8]            --\n",
              "│    └─BatchNorm2d: 2-20                 [8, 128, 8, 8]            256\n",
              "│    └─Dropout2d: 2-21                   [8, 128, 8, 8]            --\n",
              "│    └─ConvTranspose2d: 2-22             [8, 64, 16, 16]           131,136\n",
              "│    └─LeakyReLU: 2-23                   [8, 64, 16, 16]           --\n",
              "│    └─BatchNorm2d: 2-24                 [8, 64, 16, 16]           128\n",
              "│    └─Dropout2d: 2-25                   [8, 64, 16, 16]           --\n",
              "│    └─ConvTranspose2d: 2-26             [8, 32, 32, 32]           32,800\n",
              "│    └─LeakyReLU: 2-27                   [8, 32, 32, 32]           --\n",
              "│    └─BatchNorm2d: 2-28                 [8, 32, 32, 32]           64\n",
              "│    └─Dropout2d: 2-29                   [8, 32, 32, 32]           --\n",
              "│    └─ConvTranspose2d: 2-30             [8, 3, 64, 64]            1,539\n",
              "│    └─Sigmoid: 2-31                     [8, 3, 64, 64]            --\n",
              "==========================================================================================\n",
              "Total params: 7,682,115\n",
              "Trainable params: 7,682,115\n",
              "Non-trainable params: 0\n",
              "Total mult-adds (G): 1.12\n",
              "==========================================================================================\n",
              "Input size (MB): 0.39\n",
              "Forward/backward pass size (MB): 16.32\n",
              "Params size (MB): 30.73\n",
              "Estimated Total Size (MB): 47.44\n",
              "=========================================================================================="
            ]
          },
          "metadata": {},
          "execution_count": 36
        }
      ]
    },
    {
      "cell_type": "code",
      "source": [
        "device = 'cuda' if torch.cuda.is_available() else 'cpu'\n",
        "\n",
        "lr = 1e-4\n",
        "img_size = 64\n",
        "latent_dim = 512\n",
        "num_classes = 1\n",
        "\n",
        "epochs = 30"
      ],
      "metadata": {
        "id": "-QLUF8t0x51e"
      },
      "execution_count": null,
      "outputs": []
    },
    {
      "cell_type": "code",
      "source": [
        "model = CVAE(image_size=img_size, latent_dim=latent_dim, attr_dim=num_classes,dropout_prob=0.3)\n",
        "optimizer = torch.optim.Adam(model.parameters(), lr=lr)"
      ],
      "metadata": {
        "id": "lbXfNtzGx5mp"
      },
      "execution_count": null,
      "outputs": []
    },
    {
      "cell_type": "code",
      "source": [
        "train_cvae_model(model, dataloader, optimizer, epochs, device)"
      ],
      "metadata": {
        "colab": {
          "base_uri": "https://localhost:8080/"
        },
        "id": "rEY4z6Pfx5hM",
        "outputId": "97239925-5a5e-48e8-9c15-7d475d7f7b18"
      },
      "execution_count": null,
      "outputs": [
        {
          "output_type": "stream",
          "name": "stdout",
          "text": [
            "Epoch 1, Loss: 168910.5529\n",
            "Epoch 2, Loss: 164555.9011\n",
            "Epoch 3, Loss: 151886.6701\n",
            "Epoch 4, Loss: 143143.8209\n",
            "Epoch 5, Loss: 137597.4300\n",
            "Epoch 6, Loss: 132205.0947\n",
            "Epoch 7, Loss: 127009.7662\n",
            "Epoch 8, Loss: 122885.4706\n",
            "Epoch 9, Loss: 119966.0376\n",
            "Epoch 10, Loss: 116922.9778\n",
            "Epoch 11, Loss: 114523.1283\n",
            "Epoch 12, Loss: 112019.4663\n",
            "Epoch 13, Loss: 109366.3182\n",
            "Epoch 14, Loss: 107298.6556\n",
            "Epoch 15, Loss: 105992.0111\n",
            "Epoch 16, Loss: 103700.2230\n",
            "Epoch 17, Loss: 102227.9626\n",
            "Epoch 18, Loss: 100925.8812\n",
            "Epoch 19, Loss: 100680.5490\n",
            "Epoch 20, Loss: 97987.9908\n",
            "Epoch 21, Loss: 97342.4985\n",
            "Epoch 22, Loss: 96447.8466\n",
            "Epoch 23, Loss: 95248.6719\n",
            "Epoch 24, Loss: 94398.3283\n",
            "Epoch 25, Loss: 93919.7296\n",
            "Epoch 26, Loss: 92121.0667\n",
            "Epoch 27, Loss: 92176.4456\n",
            "Epoch 28, Loss: 90284.4700\n",
            "Epoch 29, Loss: 89873.5319\n",
            "Epoch 30, Loss: 89621.3492\n"
          ]
        }
      ]
    },
    {
      "cell_type": "code",
      "source": [
        "generate_cvae2_images(model, attr_value=1, num_samples=5)"
      ],
      "metadata": {
        "colab": {
          "base_uri": "https://localhost:8080/",
          "height": 183
        },
        "id": "nLk-6rlJzKDQ",
        "outputId": "16651f01-ab4a-4987-f5e4-a027e84ab387"
      },
      "execution_count": null,
      "outputs": [
        {
          "output_type": "display_data",
          "data": {
            "text/plain": [
              "<Figure size 1200x300 with 5 Axes>"
            ],
            "image/png": "[encoded data removed]"
          },
          "metadata": {}
        }
      ]
    },
    {
      "cell_type": "markdown",
      "source": [
        "**TRES: VAE**"
      ],
      "metadata": {
        "id": "k2ftlKLzMHxA"
      }
    },
    {
      "cell_type": "code",
      "source": [
        "class VAE(nn.Module):\n",
        "    def __init__(self, image_size=64, latent_dim=200, z_dim=2, device='cuda'):\n",
        "        super(VAE, self).__init__()\n",
        "\n",
        "        self.device = device\n",
        "        self.latent_dim = latent_dim\n",
        "        self.z_dim = z_dim\n",
        "\n",
        "        # Encoder\n",
        "        self.encoder = nn.Sequential(\n",
        "            nn.Conv2d(3, 32, kernel_size=4, stride=2, padding=1),\n",
        "            nn.LeakyReLU(0.2),\n",
        "            nn.Conv2d(32, 64, kernel_size=4, stride=2, padding=1),\n",
        "            nn.LeakyReLU(0.2),\n",
        "            nn.Flatten()\n",
        "        )\n",
        "\n",
        "        flat_dim = 64 * (image_size // 4) * (image_size // 4)\n",
        "        self.fc = nn.Linear(flat_dim, latent_dim)\n",
        "        self.mean_layer = nn.Linear(latent_dim, z_dim)\n",
        "        self.logvar_layer = nn.Linear(latent_dim, z_dim)\n",
        "\n",
        "        # Decoder\n",
        "        self.decoder_input = nn.Linear(z_dim, latent_dim)\n",
        "        self.decoder_fc = nn.Linear(latent_dim, flat_dim)\n",
        "        self.decoder_conv = nn.Sequential(\n",
        "            nn.ConvTranspose2d(64, 32, kernel_size=4, stride=2, padding=1),\n",
        "            nn.LeakyReLU(0.2),\n",
        "            nn.ConvTranspose2d(32, 3, kernel_size=4, stride=2, padding=1),\n",
        "            nn.Tanh()\n",
        "        )\n",
        "\n",
        "    def encode(self, x):\n",
        "        h = self.encoder(x)\n",
        "        h = self.fc(h)\n",
        "        mean = self.mean_layer(h)\n",
        "        logvar = self.logvar_layer(h)\n",
        "        return mean, logvar\n",
        "\n",
        "    def reparameterization(self, mean, logvar):\n",
        "        std = torch.exp(0.5 * logvar)\n",
        "        eps = torch.randn_like(std)\n",
        "        z = mean + eps * std\n",
        "        return z\n",
        "\n",
        "    def decode(self, z):\n",
        "        z = self.decoder_input(z)\n",
        "        z = self.decoder_fc(z)\n",
        "        z = z.view(z.size(0), 64, 16, 16)\n",
        "        return self.decoder_conv(z)\n",
        "\n",
        "    def forward(self, x):\n",
        "        mean, logvar = self.encode(x)\n",
        "        z = self.reparameterization(mean, logvar)\n",
        "        reconstructed_x = self.decode(z)\n",
        "        return reconstructed_x, mean, logvar"
      ],
      "metadata": {
        "id": "LHPwW5hTMDSQ"
      },
      "execution_count": null,
      "outputs": []
    },
    {
      "cell_type": "markdown",
      "source": [
        "**Model Summary**"
      ],
      "metadata": {
        "id": "2wMmSVEOM30T"
      }
    },
    {
      "cell_type": "code",
      "source": [
        "# Crea datos ficticios para la imagen y los atributos\n",
        "dummy_images = torch.randn(8, 3, 64, 64)  # [B, C, H, W]\n",
        "dummy_attrs = torch.randn(8, 1)  # [B, attr_dim]\n",
        "\n",
        "# Instancia el modelo\n",
        "model = VAE(image_size=64, latent_dim=256, z_dim=2)\n",
        "\n",
        "# Usa torchinfo.summary con input_data\n",
        "summary(\n",
        "    model,\n",
        "    input_data=(dummy_images,),\n",
        ")"
      ],
      "metadata": {
        "colab": {
          "base_uri": "https://localhost:8080/"
        },
        "id": "zkfvIkHOM24m",
        "outputId": "bcac4275-9c6e-4ab3-c4aa-2dae7c101f28"
      },
      "execution_count": null,
      "outputs": [
        {
          "output_type": "execute_result",
          "data": {
            "text/plain": [
              "==========================================================================================\n",
              "Layer (type:depth-idx)                   Output Shape              Param #\n",
              "==========================================================================================\n",
              "VAE                                      [8, 3, 64, 64]            --\n",
              "├─Sequential: 1-1                        [8, 16384]                --\n",
              "│    └─Conv2d: 2-1                       [8, 32, 32, 32]           1,568\n",
              "│    └─LeakyReLU: 2-2                    [8, 32, 32, 32]           --\n",
              "│    └─Conv2d: 2-3                       [8, 64, 16, 16]           32,832\n",
              "│    └─LeakyReLU: 2-4                    [8, 64, 16, 16]           --\n",
              "│    └─Flatten: 2-5                      [8, 16384]                --\n",
              "├─Linear: 1-2                            [8, 256]                  4,194,560\n",
              "├─Linear: 1-3                            [8, 2]                    514\n",
              "├─Linear: 1-4                            [8, 2]                    514\n",
              "├─Linear: 1-5                            [8, 256]                  768\n",
              "├─Linear: 1-6                            [8, 16384]                4,210,688\n",
              "├─Sequential: 1-7                        [8, 3, 64, 64]            --\n",
              "│    └─ConvTranspose2d: 2-6              [8, 32, 32, 32]           32,800\n",
              "│    └─LeakyReLU: 2-7                    [8, 32, 32, 32]           --\n",
              "│    └─ConvTranspose2d: 2-8              [8, 3, 64, 64]            1,539\n",
              "│    └─Tanh: 2-9                         [8, 3, 64, 64]            --\n",
              "==========================================================================================\n",
              "Total params: 8,475,783\n",
              "Trainable params: 8,475,783\n",
              "Non-trainable params: 0\n",
              "Total mult-adds (M): 466.47\n",
              "==========================================================================================\n",
              "Input size (MB): 0.39\n",
              "Forward/backward pass size (MB): 7.11\n",
              "Params size (MB): 33.90\n",
              "Estimated Total Size (MB): 41.41\n",
              "=========================================================================================="
            ]
          },
          "metadata": {},
          "execution_count": 46
        }
      ]
    },
    {
      "cell_type": "markdown",
      "source": [
        "**Train Model**"
      ],
      "metadata": {
        "id": "SoSKRQv1OHBa"
      }
    },
    {
      "cell_type": "code",
      "source": [
        "device = 'cuda' if torch.cuda.is_available() else 'cpu'\n",
        "lr = 1e-4\n",
        "num_hidden = 512\n",
        "z_dim = 15\n",
        "\n",
        "epochs = 30"
      ],
      "metadata": {
        "id": "VFQJHm3ROoy6"
      },
      "execution_count": null,
      "outputs": []
    },
    {
      "cell_type": "code",
      "source": [
        "model = VAE(image_size=64, latent_dim=num_hidden, z_dim=z_dim).to(device)\n",
        "optimizer = torch.optim.Adam(model.parameters(), lr=lr)"
      ],
      "metadata": {
        "id": "iLu6TbnHOSJc"
      },
      "execution_count": null,
      "outputs": []
    },
    {
      "cell_type": "code",
      "source": [
        "train_vae_model(model, dataloader, optimizer, epochs, device)"
      ],
      "metadata": {
        "colab": {
          "base_uri": "https://localhost:8080/"
        },
        "id": "pDTCcOknM8in",
        "outputId": "761c51f4-2225-45a9-cbd0-f4c0391e21ff"
      },
      "execution_count": null,
      "outputs": [
        {
          "output_type": "stream",
          "name": "stdout",
          "text": [
            "Epoch 1/30, Batch 0, Loss: 9335.4434\n",
            "====> Epoch 1: Average loss = 6153.0428\n",
            "Epoch 2/30, Batch 0, Loss: 2316.8372\n",
            "====> Epoch 2: Average loss = 1775.8858\n",
            "Epoch 3/30, Batch 0, Loss: 1119.1033\n",
            "====> Epoch 3: Average loss = 1432.3021\n",
            "Epoch 4/30, Batch 0, Loss: 1271.6680\n",
            "====> Epoch 4: Average loss = 1298.5195\n",
            "Epoch 5/30, Batch 0, Loss: 1307.5189\n",
            "====> Epoch 5: Average loss = 1160.3689\n",
            "Epoch 6/30, Batch 0, Loss: 1243.1260\n",
            "====> Epoch 6: Average loss = 1052.2298\n",
            "Epoch 7/30, Batch 0, Loss: 717.5206\n",
            "====> Epoch 7: Average loss = 974.6318\n",
            "Epoch 8/30, Batch 0, Loss: 1041.4070\n",
            "====> Epoch 8: Average loss = 916.7623\n",
            "Epoch 9/30, Batch 0, Loss: 750.7549\n",
            "====> Epoch 9: Average loss = 859.5390\n",
            "Epoch 10/30, Batch 0, Loss: 1247.4589\n",
            "====> Epoch 10: Average loss = 826.7263\n",
            "Epoch 11/30, Batch 0, Loss: 729.0603\n",
            "====> Epoch 11: Average loss = 801.9209\n",
            "Epoch 12/30, Batch 0, Loss: 784.0670\n",
            "====> Epoch 12: Average loss = 781.0154\n",
            "Epoch 13/30, Batch 0, Loss: 708.4957\n",
            "====> Epoch 13: Average loss = 753.0114\n",
            "Epoch 14/30, Batch 0, Loss: 696.5354\n",
            "====> Epoch 14: Average loss = 732.8857\n",
            "Epoch 15/30, Batch 0, Loss: 704.3870\n",
            "====> Epoch 15: Average loss = 713.5186\n",
            "Epoch 16/30, Batch 0, Loss: 840.4769\n",
            "====> Epoch 16: Average loss = 697.4998\n",
            "Epoch 17/30, Batch 0, Loss: 698.8893\n",
            "====> Epoch 17: Average loss = 675.4197\n",
            "Epoch 18/30, Batch 0, Loss: 632.8431\n",
            "====> Epoch 18: Average loss = 654.6625\n",
            "Epoch 19/30, Batch 0, Loss: 625.4112\n",
            "====> Epoch 19: Average loss = 639.4557\n",
            "Epoch 20/30, Batch 0, Loss: 676.4698\n",
            "====> Epoch 20: Average loss = 629.9162\n",
            "Epoch 21/30, Batch 0, Loss: 647.9012\n",
            "====> Epoch 21: Average loss = 612.8529\n",
            "Epoch 22/30, Batch 0, Loss: 547.2897\n",
            "====> Epoch 22: Average loss = 600.5041\n",
            "Epoch 23/30, Batch 0, Loss: 545.5120\n",
            "====> Epoch 23: Average loss = 608.0905\n",
            "Epoch 24/30, Batch 0, Loss: 483.7797\n",
            "====> Epoch 24: Average loss = 593.8313\n",
            "Epoch 25/30, Batch 0, Loss: 723.3162\n",
            "====> Epoch 25: Average loss = 573.0311\n",
            "Epoch 26/30, Batch 0, Loss: 588.6990\n",
            "====> Epoch 26: Average loss = 564.4957\n",
            "Epoch 27/30, Batch 0, Loss: 587.2359\n",
            "====> Epoch 27: Average loss = 555.7766\n",
            "Epoch 28/30, Batch 0, Loss: 535.7058\n",
            "====> Epoch 28: Average loss = 550.4188\n",
            "Epoch 29/30, Batch 0, Loss: 458.2235\n",
            "====> Epoch 29: Average loss = 541.3035\n",
            "Epoch 30/30, Batch 0, Loss: 538.2214\n",
            "====> Epoch 30: Average loss = 538.0983\n"
          ]
        }
      ]
    },
    {
      "cell_type": "code",
      "source": [
        "generate_vae_images(model, num_samples=5)"
      ],
      "metadata": {
        "colab": {
          "base_uri": "https://localhost:8080/",
          "height": 183
        },
        "id": "FYwHWQN5RMSD",
        "outputId": "052bed47-11f3-4946-d0bd-68c23b15727d"
      },
      "execution_count": null,
      "outputs": [
        {
          "output_type": "display_data",
          "data": {
            "text/plain": [
              "<Figure size 1200x300 with 5 Axes>"
            ],
            "image/png": "[encoded data removed]"
          },
          "metadata": {}
        }
      ]
    }
  ]
}